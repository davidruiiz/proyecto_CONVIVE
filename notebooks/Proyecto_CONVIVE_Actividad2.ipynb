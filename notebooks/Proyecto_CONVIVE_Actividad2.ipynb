{
 "cells": [
  {
   "attachments": {},
   "cell_type": "markdown",
   "id": "4fa674d9",
   "metadata": {},
   "source": [
    "# Módulo 1: Análisis de datos en el ecosistema Python\n",
    "\n",
    "### 22/04/2023\n",
    "\n",
    "## Análisis de la deuda pública de Madrid\n",
    "\n",
    "La deuda pública de Madrid es un tema de gran importancia para la economía de la comunidad autónoma y para el país en general. Madrid es una de las regiones con mayor endeudamiento en España, lo que ha generado un intenso debate sobre su gestión y su impacto en la sociedad. En este trabajo se analizarán las causas y consecuencias de la deuda pública de Madrid, así como las medidas adoptadas para su reducción y las perspectivas de futuro.\n",
    "\n",
    "Gracias a la **web de [Datos Abiertos del Ayuntamiento de Madrid](https://datos.madrid.es/portal/site/egob/menuitem.400a817358ce98c34e937436a8a409a0/?vgnextoid=eba412b9ace9f310VgnVCM100000171f5a0aRCRD&vgnextchannel=eba412b9ace9f310VgnVCM100000171f5a0aRCRD&vgnextfmt=default)**, los datos de la deuda pública de Madrid están públicamente disponibles e incluyen **datos históricos registrados desde 2004 hasta la actualidad.** .\n",
    "\n",
    "Vamos a utilizar **una muestra** que se ha preparado en base a estos datos que muestran la **deuda pública de Madrid** según diferentes variables."
   ]
  },
  {
   "cell_type": "code",
   "execution_count": null,
   "id": "8759b618",
   "metadata": {},
   "outputs": [],
   "source": [
    "# importamos las librerías necesarias \n",
    "import pandas as pd\n",
    "import seaborn as sns\n",
    "import matplotlib.pyplot as plt\n",
    "import numpy as np\n",
    "%matplotlib inline"
   ]
  },
  {
   "cell_type": "code",
   "execution_count": null,
   "id": "b47a42ef",
   "metadata": {},
   "outputs": [],
   "source": [
    "# Modificamos los parámetros de los gráficos en matplotlib\n",
    "from matplotlib.pyplot import rcParams\n",
    "\n",
    "rcParams['figure.figsize'] = 12, 6 # el primer dígito es el ancho y el segundo el alto\n",
    "rcParams[\"font.weight\"] = \"bold\"\n",
    "rcParams[\"font.size\"] = 10\n",
    "rcParams[\"axes.labelweight\"] = \"bold\""
   ]
  },
  {
   "cell_type": "code",
   "execution_count": null,
   "id": "e40760a7",
   "metadata": {},
   "outputs": [],
   "source": [
    "# Cargar el dataset desde un archivo\n",
    "\n",
    "df_deuda = pd.read_excel(\"Deuda.xls\")"
   ]
  },
  {
   "cell_type": "code",
   "execution_count": null,
   "id": "e26d63cb",
   "metadata": {},
   "outputs": [],
   "source": [
    "# Consultar los registros del DataFrame\n",
    "df_deuda"
   ]
  }
 ],
 "metadata": {
  "kernelspec": {
   "display_name": "Python 3.9.0 ('recomendadorVideos')",
   "language": "python",
   "name": "python3"
  },
  "language_info": {
   "codemirror_mode": {
    "name": "ipython",
    "version": 3
   },
   "file_extension": ".py",
   "mimetype": "text/x-python",
   "name": "python",
   "nbconvert_exporter": "python",
   "pygments_lexer": "ipython3",
   "version": "3.10.7"
  },
  "vscode": {
   "interpreter": {
    "hash": "fd755ef5c364b0937fa7f305ca71365387f816473e8af8795860aa053b94a5ad"
   }
  }
 },
 "nbformat": 4,
 "nbformat_minor": 5
}
