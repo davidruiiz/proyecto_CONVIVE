{
 "cells": [
  {
   "attachments": {},
   "cell_type": "markdown",
   "metadata": {},
   "source": [
    "## Módulo 1: Análisis de datos en el accidentes Python\n",
    "\n",
    "\n",
    "##### Análisis de accidentes de tráfica de la ciudad de Madrid\n",
    "\n",
    "##### Accidentes de tráfico en la Ciudad de Madrid registrados por la Policía Municipal. \n",
    "Gracias a la **web de [Datos Abiertos del Ayuntamiento de Madrid](https://datos.madrid.es/portal/site/egob/menuitem.400a817358ce98c34e937436a8a409a0/?vgnextoid=eba412b9ace9f310VgnVCM100000171f5a0aRCRD&vgnextchannel=eba412b9ace9f310VgnVCM100000171f5a0aRCRD&vgnextfmt=default)** . Los datos de accidentes se incluye **un registro por persona implicada en el accidente en el año 2019 y posteriores.**\n",
    "\n",
    "\n"
   ]
  },
  {
   "cell_type": "code",
   "execution_count": null,
   "metadata": {},
   "outputs": [],
   "source": [
    "# importamos las librerías necesarias \n",
    "import pandas as pd\n",
    "import seaborn as sns\n",
    "import matplotlib.pyplot as plt\n",
    "import numpy as np\n",
    "%matplotlib inline"
   ]
  },
  {
   "cell_type": "code",
   "execution_count": null,
   "metadata": {},
   "outputs": [],
   "source": [
    "# Modificamos los parámetros de los gráficos en matplotlib\n",
    "from matplotlib.pyplot import rcParams\n",
    "\n",
    "rcParams['figure.figsize'] = 12, 6 # el primer dígito es el ancho y el segundo el alto\n",
    "rcParams[\"font.weight\"] = \"bold\"\n",
    "rcParams[\"font.size\"] = 10\n",
    "rcParams[\"axes.labelweight\"] = \"bold\""
   ]
  },
  {
   "attachments": {},
   "cell_type": "markdown",
   "metadata": {},
   "source": [
    "### Cargar los datospara el modelo"
   ]
  },
  {
   "cell_type": "code",
   "execution_count": null,
   "metadata": {},
   "outputs": [],
   "source": [
    "# Cargar el dataset desde un archivo\n",
    "df_accidentes = pd.read_csv('../data/2023-2019_Accidentalidad.csv',delimiter=';',on_bad_lines='skip')"
   ]
  },
  {
   "cell_type": "code",
   "execution_count": null,
   "metadata": {},
   "outputs": [],
   "source": [
    "# Consultar los resgistro de DataFrame\n",
    "df_accidentes"
   ]
  },
  {
   "cell_type": "code",
   "execution_count": null,
   "metadata": {},
   "outputs": [],
   "source": [
    "# Contar datos perdidio/fantantes\n",
    "df_accidentes.isna().sum()"
   ]
  },
  {
   "cell_type": "code",
   "execution_count": null,
   "metadata": {},
   "outputs": [],
   "source": [
    "# La información útil sobre los datos guardados en formato dataFrame\n",
    "df_accidentes.info()"
   ]
  },
  {
   "cell_type": "code",
   "execution_count": null,
   "metadata": {},
   "outputs": [],
   "source": [
    "# Consultar los datos perdido/nulo\n",
    "df_accidentes['estado_meteorológico'].isna()"
   ]
  },
  {
   "cell_type": "code",
   "execution_count": null,
   "metadata": {},
   "outputs": [],
   "source": [
    "#Contar los valores nulos para este campo\n",
    "\n",
    "df_accidentes['positiva_droga'].isna().sum()"
   ]
  },
  {
   "cell_type": "code",
   "execution_count": null,
   "metadata": {},
   "outputs": [],
   "source": [
    "#Mostrar los valores nulos de este campo\n",
    "df_accidentes['positiva_droga'][df_accidentes['positiva_droga'].isna()]"
   ]
  },
  {
   "cell_type": "code",
   "execution_count": null,
   "metadata": {},
   "outputs": [],
   "source": [
    "df_accidentes['positiva_droga']= df_accidentes['positiva_droga'].fillna(0)"
   ]
  },
  {
   "cell_type": "code",
   "execution_count": null,
   "metadata": {},
   "outputs": [],
   "source": [
    "df_accidentes"
   ]
  },
  {
   "cell_type": "code",
   "execution_count": null,
   "metadata": {},
   "outputs": [],
   "source": [
    "#Consulta los registro que tienen algun valor nulo\n",
    "df_accidentes.drop(df_accidentes.dropna().index)"
   ]
  },
  {
   "cell_type": "code",
   "execution_count": null,
   "metadata": {},
   "outputs": [],
   "source": [
    "# El tamanio esperado para el dataset limpio\n",
    "df_accidentes.shape[0]-63167"
   ]
  },
  {
   "attachments": {},
   "cell_type": "markdown",
   "metadata": {},
   "source": [
    "Para evitar problemas posteriores, usamos el método ``dropna()`` para limpiar el tablón de valores perdidos (**missing values**) y reiniciamos el índice. Comprobamos la cantidad de las filas filtradas."
   ]
  },
  {
   "cell_type": "code",
   "execution_count": 90,
   "metadata": {},
   "outputs": [
    {
     "data": {
      "text/html": [
       "<div>\n",
       "<style scoped>\n",
       "    .dataframe tbody tr th:only-of-type {\n",
       "        vertical-align: middle;\n",
       "    }\n",
       "\n",
       "    .dataframe tbody tr th {\n",
       "        vertical-align: top;\n",
       "    }\n",
       "\n",
       "    .dataframe thead th {\n",
       "        text-align: right;\n",
       "    }\n",
       "</style>\n",
       "<table border=\"1\" class=\"dataframe\">\n",
       "  <thead>\n",
       "    <tr style=\"text-align: right;\">\n",
       "      <th></th>\n",
       "      <th>num_expediente</th>\n",
       "      <th>fecha</th>\n",
       "      <th>hora</th>\n",
       "      <th>localizacion</th>\n",
       "      <th>numero</th>\n",
       "      <th>cod_distrito</th>\n",
       "      <th>distrito</th>\n",
       "      <th>tipo_accidente</th>\n",
       "      <th>estado_meteorológico</th>\n",
       "      <th>tipo_vehiculo</th>\n",
       "      <th>tipo_persona</th>\n",
       "      <th>rango_edad</th>\n",
       "      <th>sexo</th>\n",
       "      <th>cod_lesividad</th>\n",
       "      <th>lesividad</th>\n",
       "      <th>coordenada_x_utm</th>\n",
       "      <th>coordenada_y_utm</th>\n",
       "      <th>positiva_alcohol</th>\n",
       "      <th>positiva_droga</th>\n",
       "    </tr>\n",
       "  </thead>\n",
       "  <tbody>\n",
       "    <tr>\n",
       "      <th>0</th>\n",
       "      <td>2023S000001</td>\n",
       "      <td>01/01/2023</td>\n",
       "      <td>1:15:00</td>\n",
       "      <td>AVDA. ALFONSO XIII, 33</td>\n",
       "      <td>33</td>\n",
       "      <td>5.0</td>\n",
       "      <td>CHAMARTÍN</td>\n",
       "      <td>Alcance</td>\n",
       "      <td>Despejado</td>\n",
       "      <td>Todo terreno</td>\n",
       "      <td>Conductor</td>\n",
       "      <td>De 55 a 59 años</td>\n",
       "      <td>Mujer</td>\n",
       "      <td>14.0</td>\n",
       "      <td>Sin asistencia sanitaria</td>\n",
       "      <td>443397,166</td>\n",
       "      <td>4478129,388</td>\n",
       "      <td>N</td>\n",
       "      <td>0.0</td>\n",
       "    </tr>\n",
       "    <tr>\n",
       "      <th>1</th>\n",
       "      <td>2023S000001</td>\n",
       "      <td>01/01/2023</td>\n",
       "      <td>1:15:00</td>\n",
       "      <td>AVDA. ALFONSO XIII, 33</td>\n",
       "      <td>33</td>\n",
       "      <td>5.0</td>\n",
       "      <td>CHAMARTÍN</td>\n",
       "      <td>Alcance</td>\n",
       "      <td>Despejado</td>\n",
       "      <td>Todo terreno</td>\n",
       "      <td>Pasajero</td>\n",
       "      <td>De 21 a 24 años</td>\n",
       "      <td>Hombre</td>\n",
       "      <td>14.0</td>\n",
       "      <td>Sin asistencia sanitaria</td>\n",
       "      <td>443397,166</td>\n",
       "      <td>4478129,388</td>\n",
       "      <td>N</td>\n",
       "      <td>0.0</td>\n",
       "    </tr>\n",
       "    <tr>\n",
       "      <th>2</th>\n",
       "      <td>2023S000001</td>\n",
       "      <td>01/01/2023</td>\n",
       "      <td>1:15:00</td>\n",
       "      <td>AVDA. ALFONSO XIII, 33</td>\n",
       "      <td>33</td>\n",
       "      <td>5.0</td>\n",
       "      <td>CHAMARTÍN</td>\n",
       "      <td>Alcance</td>\n",
       "      <td>Despejado</td>\n",
       "      <td>Todo terreno</td>\n",
       "      <td>Pasajero</td>\n",
       "      <td>De 21 a 24 años</td>\n",
       "      <td>Hombre</td>\n",
       "      <td>14.0</td>\n",
       "      <td>Sin asistencia sanitaria</td>\n",
       "      <td>443397,166</td>\n",
       "      <td>4478129,388</td>\n",
       "      <td>N</td>\n",
       "      <td>0.0</td>\n",
       "    </tr>\n",
       "    <tr>\n",
       "      <th>3</th>\n",
       "      <td>2023S000001</td>\n",
       "      <td>01/01/2023</td>\n",
       "      <td>1:15:00</td>\n",
       "      <td>AVDA. ALFONSO XIII, 33</td>\n",
       "      <td>33</td>\n",
       "      <td>5.0</td>\n",
       "      <td>CHAMARTÍN</td>\n",
       "      <td>Alcance</td>\n",
       "      <td>Despejado</td>\n",
       "      <td>Todo terreno</td>\n",
       "      <td>Pasajero</td>\n",
       "      <td>De 21 a 24 años</td>\n",
       "      <td>Mujer</td>\n",
       "      <td>7.0</td>\n",
       "      <td>Asistencia sanitaria sólo en el lugar del acci...</td>\n",
       "      <td>443397,166</td>\n",
       "      <td>4478129,388</td>\n",
       "      <td>N</td>\n",
       "      <td>0.0</td>\n",
       "    </tr>\n",
       "    <tr>\n",
       "      <th>4</th>\n",
       "      <td>2023S000001</td>\n",
       "      <td>01/01/2023</td>\n",
       "      <td>1:15:00</td>\n",
       "      <td>AVDA. ALFONSO XIII, 33</td>\n",
       "      <td>33</td>\n",
       "      <td>5.0</td>\n",
       "      <td>CHAMARTÍN</td>\n",
       "      <td>Alcance</td>\n",
       "      <td>Despejado</td>\n",
       "      <td>Todo terreno</td>\n",
       "      <td>Pasajero</td>\n",
       "      <td>De 55 a 59 años</td>\n",
       "      <td>Hombre</td>\n",
       "      <td>7.0</td>\n",
       "      <td>Asistencia sanitaria sólo en el lugar del acci...</td>\n",
       "      <td>443397,166</td>\n",
       "      <td>4478129,388</td>\n",
       "      <td>N</td>\n",
       "      <td>0.0</td>\n",
       "    </tr>\n",
       "    <tr>\n",
       "      <th>...</th>\n",
       "      <td>...</td>\n",
       "      <td>...</td>\n",
       "      <td>...</td>\n",
       "      <td>...</td>\n",
       "      <td>...</td>\n",
       "      <td>...</td>\n",
       "      <td>...</td>\n",
       "      <td>...</td>\n",
       "      <td>...</td>\n",
       "      <td>...</td>\n",
       "      <td>...</td>\n",
       "      <td>...</td>\n",
       "      <td>...</td>\n",
       "      <td>...</td>\n",
       "      <td>...</td>\n",
       "      <td>...</td>\n",
       "      <td>...</td>\n",
       "      <td>...</td>\n",
       "      <td>...</td>\n",
       "    </tr>\n",
       "    <tr>\n",
       "      <th>75043</th>\n",
       "      <td>2019S039987</td>\n",
       "      <td>16/11/2019</td>\n",
       "      <td>14:45:00</td>\n",
       "      <td>AVDA. REINA VICTORIA / AVDA. PABLO IGLESIAS</td>\n",
       "      <td>21</td>\n",
       "      <td>7.0</td>\n",
       "      <td>CHAMBERÍ</td>\n",
       "      <td>Atropello a persona</td>\n",
       "      <td>Despejado</td>\n",
       "      <td>Motocicleta hasta 125cc</td>\n",
       "      <td>Conductor</td>\n",
       "      <td>De 25 a 29 años</td>\n",
       "      <td>Hombre</td>\n",
       "      <td>7.0</td>\n",
       "      <td>Asistencia sanitaria sólo en el lugar del acci...</td>\n",
       "      <td>439961,798</td>\n",
       "      <td>4477600,669</td>\n",
       "      <td>N</td>\n",
       "      <td>0.0</td>\n",
       "    </tr>\n",
       "    <tr>\n",
       "      <th>75044</th>\n",
       "      <td>2019S039987</td>\n",
       "      <td>16/11/2019</td>\n",
       "      <td>14:45:00</td>\n",
       "      <td>AVDA. REINA VICTORIA / AVDA. PABLO IGLESIAS</td>\n",
       "      <td>21</td>\n",
       "      <td>7.0</td>\n",
       "      <td>CHAMBERÍ</td>\n",
       "      <td>Atropello a persona</td>\n",
       "      <td>Despejado</td>\n",
       "      <td>Motocicleta hasta 125cc</td>\n",
       "      <td>Peatón</td>\n",
       "      <td>De 25 a 29 años</td>\n",
       "      <td>Mujer</td>\n",
       "      <td>7.0</td>\n",
       "      <td>Asistencia sanitaria sólo en el lugar del acci...</td>\n",
       "      <td>439961,798</td>\n",
       "      <td>4477600,669</td>\n",
       "      <td>N</td>\n",
       "      <td>0.0</td>\n",
       "    </tr>\n",
       "    <tr>\n",
       "      <th>75045</th>\n",
       "      <td>2019S039993</td>\n",
       "      <td>10/11/2019</td>\n",
       "      <td>11:00:00</td>\n",
       "      <td>PLAZA. ELIPTICA / CALL. MARCELO USERA</td>\n",
       "      <td>1</td>\n",
       "      <td>12.0</td>\n",
       "      <td>USERA</td>\n",
       "      <td>Colisión lateral</td>\n",
       "      <td>Despejado</td>\n",
       "      <td>Motocicleta hasta 125cc</td>\n",
       "      <td>Conductor</td>\n",
       "      <td>De 25 a 29 años</td>\n",
       "      <td>Hombre</td>\n",
       "      <td>7.0</td>\n",
       "      <td>Asistencia sanitaria sólo en el lugar del acci...</td>\n",
       "      <td>439115,482</td>\n",
       "      <td>4470746,354</td>\n",
       "      <td>N</td>\n",
       "      <td>0.0</td>\n",
       "    </tr>\n",
       "    <tr>\n",
       "      <th>75046</th>\n",
       "      <td>2019S039993</td>\n",
       "      <td>10/11/2019</td>\n",
       "      <td>11:00:00</td>\n",
       "      <td>PLAZA. ELIPTICA / CALL. MARCELO USERA</td>\n",
       "      <td>1</td>\n",
       "      <td>12.0</td>\n",
       "      <td>USERA</td>\n",
       "      <td>Colisión lateral</td>\n",
       "      <td>Despejado</td>\n",
       "      <td>Turismo</td>\n",
       "      <td>Conductor</td>\n",
       "      <td>De 55 a 59 años</td>\n",
       "      <td>Mujer</td>\n",
       "      <td>14.0</td>\n",
       "      <td>Sin asistencia sanitaria</td>\n",
       "      <td>439115,482</td>\n",
       "      <td>4470746,354</td>\n",
       "      <td>N</td>\n",
       "      <td>0.0</td>\n",
       "    </tr>\n",
       "    <tr>\n",
       "      <th>75047</th>\n",
       "      <td>2019S039993</td>\n",
       "      <td>10/11/2019</td>\n",
       "      <td>11:00:00</td>\n",
       "      <td>PLAZA. ELIPTICA / CALL. MARCELO USERA</td>\n",
       "      <td>1</td>\n",
       "      <td>12.0</td>\n",
       "      <td>USERA</td>\n",
       "      <td>Colisión lateral</td>\n",
       "      <td>Despejado</td>\n",
       "      <td>Turismo</td>\n",
       "      <td>Pasajero</td>\n",
       "      <td>De 60 a 64 años</td>\n",
       "      <td>Mujer</td>\n",
       "      <td>14.0</td>\n",
       "      <td>Sin asistencia sanitaria</td>\n",
       "      <td>439115,482</td>\n",
       "      <td>4470746,354</td>\n",
       "      <td>N</td>\n",
       "      <td>0.0</td>\n",
       "    </tr>\n",
       "  </tbody>\n",
       "</table>\n",
       "<p>75048 rows × 19 columns</p>\n",
       "</div>"
      ],
      "text/plain": [
       "      num_expediente       fecha      hora  \\\n",
       "0        2023S000001  01/01/2023   1:15:00   \n",
       "1        2023S000001  01/01/2023   1:15:00   \n",
       "2        2023S000001  01/01/2023   1:15:00   \n",
       "3        2023S000001  01/01/2023   1:15:00   \n",
       "4        2023S000001  01/01/2023   1:15:00   \n",
       "...              ...         ...       ...   \n",
       "75043    2019S039987  16/11/2019  14:45:00   \n",
       "75044    2019S039987  16/11/2019  14:45:00   \n",
       "75045    2019S039993  10/11/2019  11:00:00   \n",
       "75046    2019S039993  10/11/2019  11:00:00   \n",
       "75047    2019S039993  10/11/2019  11:00:00   \n",
       "\n",
       "                                      localizacion numero  cod_distrito  \\\n",
       "0                           AVDA. ALFONSO XIII, 33     33           5.0   \n",
       "1                           AVDA. ALFONSO XIII, 33     33           5.0   \n",
       "2                           AVDA. ALFONSO XIII, 33     33           5.0   \n",
       "3                           AVDA. ALFONSO XIII, 33     33           5.0   \n",
       "4                           AVDA. ALFONSO XIII, 33     33           5.0   \n",
       "...                                            ...    ...           ...   \n",
       "75043  AVDA. REINA VICTORIA / AVDA. PABLO IGLESIAS     21           7.0   \n",
       "75044  AVDA. REINA VICTORIA / AVDA. PABLO IGLESIAS     21           7.0   \n",
       "75045        PLAZA. ELIPTICA / CALL. MARCELO USERA      1          12.0   \n",
       "75046        PLAZA. ELIPTICA / CALL. MARCELO USERA      1          12.0   \n",
       "75047        PLAZA. ELIPTICA / CALL. MARCELO USERA      1          12.0   \n",
       "\n",
       "        distrito       tipo_accidente estado_meteorológico  \\\n",
       "0      CHAMARTÍN              Alcance            Despejado   \n",
       "1      CHAMARTÍN              Alcance            Despejado   \n",
       "2      CHAMARTÍN              Alcance            Despejado   \n",
       "3      CHAMARTÍN              Alcance            Despejado   \n",
       "4      CHAMARTÍN              Alcance            Despejado   \n",
       "...          ...                  ...                  ...   \n",
       "75043   CHAMBERÍ  Atropello a persona            Despejado   \n",
       "75044   CHAMBERÍ  Atropello a persona            Despejado   \n",
       "75045      USERA     Colisión lateral            Despejado   \n",
       "75046      USERA     Colisión lateral            Despejado   \n",
       "75047      USERA     Colisión lateral            Despejado   \n",
       "\n",
       "                 tipo_vehiculo tipo_persona       rango_edad    sexo  \\\n",
       "0                 Todo terreno    Conductor  De 55 a 59 años   Mujer   \n",
       "1                 Todo terreno     Pasajero  De 21 a 24 años  Hombre   \n",
       "2                 Todo terreno     Pasajero  De 21 a 24 años  Hombre   \n",
       "3                 Todo terreno     Pasajero  De 21 a 24 años   Mujer   \n",
       "4                 Todo terreno     Pasajero  De 55 a 59 años  Hombre   \n",
       "...                        ...          ...              ...     ...   \n",
       "75043  Motocicleta hasta 125cc    Conductor  De 25 a 29 años  Hombre   \n",
       "75044  Motocicleta hasta 125cc       Peatón  De 25 a 29 años   Mujer   \n",
       "75045  Motocicleta hasta 125cc    Conductor  De 25 a 29 años  Hombre   \n",
       "75046                  Turismo    Conductor  De 55 a 59 años   Mujer   \n",
       "75047                  Turismo     Pasajero  De 60 a 64 años   Mujer   \n",
       "\n",
       "       cod_lesividad                                          lesividad  \\\n",
       "0               14.0                           Sin asistencia sanitaria   \n",
       "1               14.0                           Sin asistencia sanitaria   \n",
       "2               14.0                           Sin asistencia sanitaria   \n",
       "3                7.0  Asistencia sanitaria sólo en el lugar del acci...   \n",
       "4                7.0  Asistencia sanitaria sólo en el lugar del acci...   \n",
       "...              ...                                                ...   \n",
       "75043            7.0  Asistencia sanitaria sólo en el lugar del acci...   \n",
       "75044            7.0  Asistencia sanitaria sólo en el lugar del acci...   \n",
       "75045            7.0  Asistencia sanitaria sólo en el lugar del acci...   \n",
       "75046           14.0                           Sin asistencia sanitaria   \n",
       "75047           14.0                           Sin asistencia sanitaria   \n",
       "\n",
       "      coordenada_x_utm coordenada_y_utm positiva_alcohol  positiva_droga  \n",
       "0           443397,166      4478129,388                N             0.0  \n",
       "1           443397,166      4478129,388                N             0.0  \n",
       "2           443397,166      4478129,388                N             0.0  \n",
       "3           443397,166      4478129,388                N             0.0  \n",
       "4           443397,166      4478129,388                N             0.0  \n",
       "...                ...              ...              ...             ...  \n",
       "75043       439961,798      4477600,669                N             0.0  \n",
       "75044       439961,798      4477600,669                N             0.0  \n",
       "75045       439115,482      4470746,354                N             0.0  \n",
       "75046       439115,482      4470746,354                N             0.0  \n",
       "75047       439115,482      4470746,354                N             0.0  \n",
       "\n",
       "[75048 rows x 19 columns]"
      ]
     },
     "execution_count": 90,
     "metadata": {},
     "output_type": "execute_result"
    }
   ],
   "source": [
    "df_accident_filt=df_accidentes.dropna().reset_index(drop=True)\n",
    "df_accident_filt"
   ]
  },
  {
   "cell_type": "code",
   "execution_count": null,
   "metadata": {},
   "outputs": [],
   "source": [
    "df_accident_filt.info()\n",
    "df_accident_filt['positiva_alcohol']"
   ]
  },
  {
   "attachments": {},
   "cell_type": "markdown",
   "metadata": {},
   "source": [
    "### Analisis"
   ]
  },
  {
   "cell_type": "code",
   "execution_count": null,
   "metadata": {},
   "outputs": [],
   "source": [
    "#La caracteristicas de cad columna\n",
    "df_accident_filt.describe()"
   ]
  },
  {
   "cell_type": "code",
   "execution_count": 89,
   "metadata": {},
   "outputs": [
    {
     "data": {
      "text/plain": [
       "num_expediente           object\n",
       "fecha                    object\n",
       "hora                     object\n",
       "localizacion             object\n",
       "numero                   object\n",
       "cod_distrito            float64\n",
       "distrito                 object\n",
       "tipo_accidente           object\n",
       "estado_meteorológico     object\n",
       "tipo_vehiculo            object\n",
       "tipo_persona             object\n",
       "rango_edad               object\n",
       "sexo                     object\n",
       "cod_lesividad           float64\n",
       "lesividad                object\n",
       "coordenada_x_utm         object\n",
       "coordenada_y_utm         object\n",
       "positiva_alcohol         object\n",
       "positiva_droga          float64\n",
       "dtype: object"
      ]
     },
     "execution_count": 89,
     "metadata": {},
     "output_type": "execute_result"
    }
   ],
   "source": [
    "#Consultamos el tipo de datos\n",
    "df_accident_filt.dtypes"
   ]
  },
  {
   "attachments": {},
   "cell_type": "markdown",
   "metadata": {},
   "source": [
    "Los algoritmos **entienden de números y no otra cosa!**, con lo cual para que el algoritmo pueda trabajar con toda la información del dataset, los datos se tienen que **transformar en valores numéricos**."
   ]
  },
  {
   "cell_type": "code",
   "execution_count": null,
   "metadata": {},
   "outputs": [],
   "source": [
    "#Consultar las variables que son del tipo \"string\"\n",
    "df_accident_filt.dtypes[df_accident_filt.dtypes=='object']"
   ]
  },
  {
   "attachments": {},
   "cell_type": "markdown",
   "metadata": {},
   "source": [
    "Nos interesa el tipo de accidentes, vehiculo ,persona ,levisidad y el positiva de alcohol"
   ]
  },
  {
   "cell_type": "markdown",
   "metadata": {},
   "source": []
  },
  {
   "cell_type": "code",
   "execution_count": null,
   "metadata": {},
   "outputs": [],
   "source": [
    "#Analizar las tipo de accidentes\n",
    "df_accident_filt['tipo_accidente'].value_counts()"
   ]
  },
  {
   "cell_type": "code",
   "execution_count": null,
   "metadata": {},
   "outputs": [],
   "source": [
    "df_accident_filt['tipo_persona'].value_counts()"
   ]
  },
  {
   "cell_type": "code",
   "execution_count": null,
   "metadata": {},
   "outputs": [],
   "source": [
    "df_accident_filt['tipo_vehiculo'].value_counts()"
   ]
  },
  {
   "cell_type": "code",
   "execution_count": null,
   "metadata": {},
   "outputs": [],
   "source": [
    "df_accident_filt['positiva_alcohol'].value_counts()"
   ]
  },
  {
   "attachments": {},
   "cell_type": "markdown",
   "metadata": {},
   "source": [
    "En la lista ``columnas_drop`` definimos las columnas a eliminar del dataset por ser meramente informativas."
   ]
  },
  {
   "cell_type": "code",
   "execution_count": 106,
   "metadata": {},
   "outputs": [],
   "source": [
    "columnas_drop = [\"num_expediente\",\n",
    "                 \"fecha\",\n",
    "                 \"hora\",\n",
    "                 \"localizacion\",\n",
    "                 \"numero\",\n",
    "                 \"cod_distrito\",\n",
    "                 \"distrito\",\n",
    "                 \"sexo\",\n",
    "                 \"rango_edad\",\n",
    "                 \"coordenada_x_utm\",\n",
    "                 \"coordenada_y_utm\",\n",
    "                 \"estado_meteorológico\"\n",
    "                 ]"
   ]
  },
  {
   "attachments": {},
   "cell_type": "markdown",
   "metadata": {},
   "source": [
    "Creamos un nuevo dataset que sea como el tablón anterior, eliminando las columnas de la lista indicada. Utilizamos el método `drop` para _DataFrames_ de _pandas_."
   ]
  },
  {
   "cell_type": "code",
   "execution_count": 107,
   "metadata": {},
   "outputs": [
    {
     "name": "stdout",
     "output_type": "stream",
     "text": [
      "Tamaño del tablón filtrado:  (75048, 19)\n",
      "Tamaño del tablón nuevo:  (75048, 7)\n"
     ]
    }
   ],
   "source": [
    "df_accident_filt2 = df_accident_filt.drop(columns=columnas_drop)\n",
    "print(\"Tamaño del tablón filtrado: \", df_accident_filt.shape)\n",
    "print(\"Tamaño del tablón nuevo: \", df_accident_filt2.shape)"
   ]
  },
  {
   "cell_type": "code",
   "execution_count": 108,
   "metadata": {},
   "outputs": [
    {
     "data": {
      "text/plain": [
       "object     5\n",
       "float64    2\n",
       "dtype: int64"
      ]
     },
     "execution_count": 108,
     "metadata": {},
     "output_type": "execute_result"
    }
   ],
   "source": [
    "# Tipología de las variables exsitentes en el nuevo dataset\n",
    "df_accident_filt2.dtypes.value_counts()"
   ]
  },
  {
   "cell_type": "code",
   "execution_count": 110,
   "metadata": {},
   "outputs": [
    {
     "data": {
      "text/html": [
       "<style>#sk-container-id-1 {color: black;background-color: white;}#sk-container-id-1 pre{padding: 0;}#sk-container-id-1 div.sk-toggleable {background-color: white;}#sk-container-id-1 label.sk-toggleable__label {cursor: pointer;display: block;width: 100%;margin-bottom: 0;padding: 0.3em;box-sizing: border-box;text-align: center;}#sk-container-id-1 label.sk-toggleable__label-arrow:before {content: \"▸\";float: left;margin-right: 0.25em;color: #696969;}#sk-container-id-1 label.sk-toggleable__label-arrow:hover:before {color: black;}#sk-container-id-1 div.sk-estimator:hover label.sk-toggleable__label-arrow:before {color: black;}#sk-container-id-1 div.sk-toggleable__content {max-height: 0;max-width: 0;overflow: hidden;text-align: left;background-color: #f0f8ff;}#sk-container-id-1 div.sk-toggleable__content pre {margin: 0.2em;color: black;border-radius: 0.25em;background-color: #f0f8ff;}#sk-container-id-1 input.sk-toggleable__control:checked~div.sk-toggleable__content {max-height: 200px;max-width: 100%;overflow: auto;}#sk-container-id-1 input.sk-toggleable__control:checked~label.sk-toggleable__label-arrow:before {content: \"▾\";}#sk-container-id-1 div.sk-estimator input.sk-toggleable__control:checked~label.sk-toggleable__label {background-color: #d4ebff;}#sk-container-id-1 div.sk-label input.sk-toggleable__control:checked~label.sk-toggleable__label {background-color: #d4ebff;}#sk-container-id-1 input.sk-hidden--visually {border: 0;clip: rect(1px 1px 1px 1px);clip: rect(1px, 1px, 1px, 1px);height: 1px;margin: -1px;overflow: hidden;padding: 0;position: absolute;width: 1px;}#sk-container-id-1 div.sk-estimator {font-family: monospace;background-color: #f0f8ff;border: 1px dotted black;border-radius: 0.25em;box-sizing: border-box;margin-bottom: 0.5em;}#sk-container-id-1 div.sk-estimator:hover {background-color: #d4ebff;}#sk-container-id-1 div.sk-parallel-item::after {content: \"\";width: 100%;border-bottom: 1px solid gray;flex-grow: 1;}#sk-container-id-1 div.sk-label:hover label.sk-toggleable__label {background-color: #d4ebff;}#sk-container-id-1 div.sk-serial::before {content: \"\";position: absolute;border-left: 1px solid gray;box-sizing: border-box;top: 0;bottom: 0;left: 50%;z-index: 0;}#sk-container-id-1 div.sk-serial {display: flex;flex-direction: column;align-items: center;background-color: white;padding-right: 0.2em;padding-left: 0.2em;position: relative;}#sk-container-id-1 div.sk-item {position: relative;z-index: 1;}#sk-container-id-1 div.sk-parallel {display: flex;align-items: stretch;justify-content: center;background-color: white;position: relative;}#sk-container-id-1 div.sk-item::before, #sk-container-id-1 div.sk-parallel-item::before {content: \"\";position: absolute;border-left: 1px solid gray;box-sizing: border-box;top: 0;bottom: 0;left: 50%;z-index: -1;}#sk-container-id-1 div.sk-parallel-item {display: flex;flex-direction: column;z-index: 1;position: relative;background-color: white;}#sk-container-id-1 div.sk-parallel-item:first-child::after {align-self: flex-end;width: 50%;}#sk-container-id-1 div.sk-parallel-item:last-child::after {align-self: flex-start;width: 50%;}#sk-container-id-1 div.sk-parallel-item:only-child::after {width: 0;}#sk-container-id-1 div.sk-dashed-wrapped {border: 1px dashed gray;margin: 0 0.4em 0.5em 0.4em;box-sizing: border-box;padding-bottom: 0.4em;background-color: white;}#sk-container-id-1 div.sk-label label {font-family: monospace;font-weight: bold;display: inline-block;line-height: 1.2em;}#sk-container-id-1 div.sk-label-container {text-align: center;}#sk-container-id-1 div.sk-container {/* jupyter's `normalize.less` sets `[hidden] { display: none; }` but bootstrap.min.css set `[hidden] { display: none !important; }` so we also need the `!important` here to be able to override the default hidden behavior on the sphinx rendered scikit-learn.org. See: https://github.com/scikit-learn/scikit-learn/issues/21755 */display: inline-block !important;position: relative;}#sk-container-id-1 div.sk-text-repr-fallback {display: none;}</style><div id=\"sk-container-id-1\" class=\"sk-top-container\"><div class=\"sk-text-repr-fallback\"><pre>LabelEncoder()</pre><b>In a Jupyter environment, please rerun this cell to show the HTML representation or trust the notebook. <br />On GitHub, the HTML representation is unable to render, please try loading this page with nbviewer.org.</b></div><div class=\"sk-container\" hidden><div class=\"sk-item\"><div class=\"sk-estimator sk-toggleable\"><input class=\"sk-toggleable__control sk-hidden--visually\" id=\"sk-estimator-id-1\" type=\"checkbox\" checked><label for=\"sk-estimator-id-1\" class=\"sk-toggleable__label sk-toggleable__label-arrow\">LabelEncoder</label><div class=\"sk-toggleable__content\"><pre>LabelEncoder()</pre></div></div></div></div></div>"
      ],
      "text/plain": [
       "LabelEncoder()"
      ]
     },
     "execution_count": 110,
     "metadata": {},
     "output_type": "execute_result"
    }
   ],
   "source": [
    "from sklearn.preprocessing import LabelEncoder\n",
    "etiquetado = LabelEncoder()\n",
    "etiquetado.fit(df_accident_filt2['positiva_alcohol'])"
   ]
  },
  {
   "cell_type": "code",
   "execution_count": 113,
   "metadata": {},
   "outputs": [
    {
     "data": {
      "text/plain": [
       "array([0, 0, 0, ..., 0, 0, 0])"
      ]
     },
     "execution_count": 113,
     "metadata": {},
     "output_type": "execute_result"
    }
   ],
   "source": [
    "# Transformamos el dataset aplicando el mapeado:\n",
    "etiquetado.transform(df_accident_filt2['positiva_alcohol'])"
   ]
  }
 ],
 "metadata": {
  "kernelspec": {
   "display_name": "Python 3",
   "language": "python",
   "name": "python3"
  },
  "language_info": {
   "codemirror_mode": {
    "name": "ipython",
    "version": 3
   },
   "file_extension": ".py",
   "mimetype": "text/x-python",
   "name": "python",
   "nbconvert_exporter": "python",
   "pygments_lexer": "ipython3",
   "version": "3.10.4"
  },
  "orig_nbformat": 4
 },
 "nbformat": 4,
 "nbformat_minor": 2
}
